{
 "cells": [
  {
   "cell_type": "code",
   "execution_count": 61,
   "metadata": {
    "collapsed": true
   },
   "outputs": [],
   "source": [
    "import numpy as np\n",
    "import pandas as pd"
   ]
  },
  {
   "cell_type": "code",
   "execution_count": 108,
   "metadata": {
    "collapsed": false
   },
   "outputs": [],
   "source": [
    "doc_link=\"C:\\\\Users\\\\murat_gga8ya6\\\\Desktop\\\\Desktop\\\\hash\\\\a_example.in\"\n",
    "F=open(doc_link,\"r\")\n",
    "header=F.next()[:-1].split(\" \")\n",
    "F.close()"
   ]
  },
  {
   "cell_type": "code",
   "execution_count": 109,
   "metadata": {
    "collapsed": false
   },
   "outputs": [
    {
     "data": {
      "text/plain": [
       "['3', '4', '2', '3', '2', '10']"
      ]
     },
     "execution_count": 109,
     "metadata": {},
     "output_type": "execute_result"
    }
   ],
   "source": [
    "header"
   ]
  },
  {
   "cell_type": "code",
   "execution_count": 110,
   "metadata": {
    "collapsed": false
   },
   "outputs": [
    {
     "name": "stderr",
     "output_type": "stream",
     "text": [
      "C:\\Users\\murat_gga8ya6\\Anaconda2\\lib\\site-packages\\ipykernel\\__main__.py:5: FutureWarning: sort(....) is deprecated, use sort_index(.....)\n"
     ]
    }
   ],
   "source": [
    "data=pd.DataFrame.from_csv(doc_link,sep=\" \")\n",
    "data.columns=[\"B\",\"C\",\"D\",\"E\",\"F\"]\n",
    "data[\"A\"]=data.index\n",
    "data.index=[i for i in range(len(data.index))]\n",
    "data=data.sort(axis=1)"
   ]
  },
  {
   "cell_type": "code",
   "execution_count": 105,
   "metadata": {
    "collapsed": false,
    "scrolled": true
   },
   "outputs": [
    {
     "data": {
      "text/html": [
       "<div>\n",
       "<table border=\"1\" class=\"dataframe\">\n",
       "  <thead>\n",
       "    <tr style=\"text-align: right;\">\n",
       "      <th></th>\n",
       "      <th>A</th>\n",
       "      <th>B</th>\n",
       "      <th>C</th>\n",
       "      <th>D</th>\n",
       "      <th>E</th>\n",
       "      <th>F</th>\n",
       "    </tr>\n",
       "  </thead>\n",
       "  <tbody>\n",
       "    <tr>\n",
       "      <th>0</th>\n",
       "      <td>0</td>\n",
       "      <td>0</td>\n",
       "      <td>1</td>\n",
       "      <td>3</td>\n",
       "      <td>2</td>\n",
       "      <td>9</td>\n",
       "    </tr>\n",
       "    <tr>\n",
       "      <th>1</th>\n",
       "      <td>1</td>\n",
       "      <td>2</td>\n",
       "      <td>1</td>\n",
       "      <td>0</td>\n",
       "      <td>0</td>\n",
       "      <td>9</td>\n",
       "    </tr>\n",
       "    <tr>\n",
       "      <th>2</th>\n",
       "      <td>2</td>\n",
       "      <td>0</td>\n",
       "      <td>2</td>\n",
       "      <td>2</td>\n",
       "      <td>0</td>\n",
       "      <td>9</td>\n",
       "    </tr>\n",
       "  </tbody>\n",
       "</table>\n",
       "</div>"
      ],
      "text/plain": [
       "   A  B  C  D  E  F\n",
       "0  0  0  1  3  2  9\n",
       "1  1  2  1  0  0  9\n",
       "2  2  0  2  2  0  9"
      ]
     },
     "execution_count": 105,
     "metadata": {},
     "output_type": "execute_result"
    }
   ],
   "source": [
    "data\n",
    "## There are two approaches I provided for the contest. First one is a car based one which is faster and gives a better result.\n",
    "## The second one is time based.\n",
    "## With car based approach the algorithm got 35M points among maximum of 50M."
   ]
  },
  {
   "cell_type": "code",
   "execution_count": 106,
   "metadata": {
    "collapsed": false,
    "scrolled": true
   },
   "outputs": [
    {
     "name": "stderr",
     "output_type": "stream",
     "text": [
      "C:\\Users\\murat_gga8ya6\\Anaconda2\\lib\\site-packages\\ipykernel\\__main__.py:14: SettingWithCopyWarning: \n",
      "A value is trying to be set on a copy of a slice from a DataFrame.\n",
      "Try using .loc[row_indexer,col_indexer] = value instead\n",
      "\n",
      "See the caveats in the documentation: http://pandas.pydata.org/pandas-docs/stable/indexing.html#indexing-view-versus-copy\n",
      "C:\\Users\\murat_gga8ya6\\Anaconda2\\lib\\site-packages\\ipykernel\\__main__.py:16: SettingWithCopyWarning: \n",
      "A value is trying to be set on a copy of a slice from a DataFrame.\n",
      "Try using .loc[row_indexer,col_indexer] = value instead\n",
      "\n",
      "See the caveats in the documentation: http://pandas.pydata.org/pandas-docs/stable/indexing.html#indexing-view-versus-copy\n",
      "C:\\Users\\murat_gga8ya6\\Anaconda2\\lib\\site-packages\\ipykernel\\__main__.py:18: FutureWarning: sort(columns=....) is deprecated, use sort_values(by=.....)\n"
     ]
    }
   ],
   "source": [
    "#Car based approach\n",
    "limit=int(header[5])\n",
    "done=0 #counter to count how many clients are transported\n",
    "cars=pd.DataFrame([[0,0,\"A\",0,[]] for i in range(int(header[2]))],columns=[\"pos1\",\"pos2\",\"Availibility\",\"Work_until\",\"Job_done\"])\n",
    "for car in cars.index:\n",
    "    t=0\n",
    "    while(True):\n",
    "        s_data=data\n",
    "        s_data[\"Arrival\"]=abs(s_data[\"A\"]-cars.loc[car][0])+abs(s_data[\"B\"]-cars.loc[car][1])+t\n",
    "        s_data[\"Distance\"]=abs(s_data[\"A\"]-s_data[\"C\"])+abs(s_data[\"B\"]-s_data[\"D\"])\n",
    "        s_data[\"Cost\"]=0\n",
    "        s_data=s_data[s_data[\"F\"]>t]\n",
    "        s_data1=s_data[s_data[\"Arrival\"]>=s_data[\"E\"]]  \n",
    "        s_data1[\"Cost\"]=s_data1[\"Arrival\"]+s_data1[\"Distance\"]\n",
    "        s_data2=s_data[s_data[\"Arrival\"]<s_data[\"E\"]]    \n",
    "        s_data2[\"Cost\"]=s_data2[\"E\"]+s_data2[\"Distance\"]\n",
    "        s_data=pd.concat([s_data1,s_data2])\n",
    "        s_data=s_data.sort(columns=[\"Cost\"])\n",
    "        if len(s_data) == 0:\n",
    "            break\n",
    "        elif s_data.iloc[0,8] <=limit:\n",
    "            cars.loc[car,\"Job_done\"].append(s_data.index[0])\n",
    "            data=data.drop(s_data.index[0])\n",
    "            cars.loc[car,\"pos1\"]=s_data.iloc[0,2]\n",
    "            cars.loc[car,\"pos2\"]=s_data.iloc[0,3]\n",
    "            t=s_data.iloc[0,8]\n",
    "            done=done+1\n",
    "        elif s_data.iloc[0,8] >limit:\n",
    "            break"
   ]
  },
  {
   "cell_type": "code",
   "execution_count": 107,
   "metadata": {
    "collapsed": false
   },
   "outputs": [
    {
     "data": {
      "text/plain": [
       "3"
      ]
     },
     "execution_count": 107,
     "metadata": {},
     "output_type": "execute_result"
    }
   ],
   "source": [
    "done"
   ]
  },
  {
   "cell_type": "code",
   "execution_count": 95,
   "metadata": {
    "collapsed": false,
    "scrolled": true
   },
   "outputs": [],
   "source": [
    "#Result submission file\n",
    "F=open(\"C:\\\\Users\\\\murat_gga8ya6\\\\Desktop\\\\Desktop\\\\hash\\\\a_example_result.txt\",\"w\")\n",
    "for i in cars.index:\n",
    "    F.write(str(len(cars.loc[i,\"Job_done\"]))+\" \")\n",
    "    for j in cars.loc[i,\"Job_done\"]:\n",
    "        F.write(str(j)+\" \")\n",
    "    F.write(\"\\n\")\n",
    "F.close()"
   ]
  },
  {
   "cell_type": "code",
   "execution_count": null,
   "metadata": {
    "collapsed": false
   },
   "outputs": [],
   "source": []
  },
  {
   "cell_type": "code",
   "execution_count": 111,
   "metadata": {
    "collapsed": false
   },
   "outputs": [
    {
     "name": "stderr",
     "output_type": "stream",
     "text": [
      "C:\\Users\\murat_gga8ya6\\Anaconda2\\lib\\site-packages\\ipykernel\\__main__.py:12: SettingWithCopyWarning: \n",
      "A value is trying to be set on a copy of a slice from a DataFrame.\n",
      "Try using .loc[row_indexer,col_indexer] = value instead\n",
      "\n",
      "See the caveats in the documentation: http://pandas.pydata.org/pandas-docs/stable/indexing.html#indexing-view-versus-copy\n",
      "C:\\Users\\murat_gga8ya6\\Anaconda2\\lib\\site-packages\\ipykernel\\__main__.py:14: SettingWithCopyWarning: \n",
      "A value is trying to be set on a copy of a slice from a DataFrame.\n",
      "Try using .loc[row_indexer,col_indexer] = value instead\n",
      "\n",
      "See the caveats in the documentation: http://pandas.pydata.org/pandas-docs/stable/indexing.html#indexing-view-versus-copy\n",
      "C:\\Users\\murat_gga8ya6\\Anaconda2\\lib\\site-packages\\ipykernel\\__main__.py:16: FutureWarning: sort(columns=....) is deprecated, use sort_values(by=.....)\n"
     ]
    }
   ],
   "source": [
    "#Time based approach\n",
    "done=0\n",
    "cars=pd.DataFrame([[0,0,\"A\",0,[]] for i in range(int(header[2]))],columns=[\"pos1\",\"pos2\",\"Availibility\",\"Work_until\",\"Job_done\"])\n",
    "for t in range(int(header[5])):\n",
    "    av_cars=cars[cars[\"Availibility\"]==\"A\"]\n",
    "    if len(av_cars) !=0:\n",
    "        for car in av_cars.index:\n",
    "            s_data=data\n",
    "            s_data[\"Arrival\"]=abs(s_data[\"A\"]-cars.loc[car][0])+abs(s_data[\"B\"]-cars.loc[car][1])+t\n",
    "            s_data[\"Distance\"]=abs(s_data[\"A\"]-s_data[\"C\"])+abs(s_data[\"B\"]-s_data[\"D\"])\n",
    "            s_data1=s_data[s_data[\"Arrival\"]>=s_data[\"E\"]]  \n",
    "            s_data1[\"Cost\"]=s_data1[\"Arrival\"]+s_data1[\"Distance\"]\n",
    "            s_data2=s_data[s_data[\"Arrival\"]<s_data[\"E\"]]    \n",
    "            s_data2[\"Cost\"]=s_data2[\"E\"]+s_data2[\"Distance\"]\n",
    "            s_data=pd.concat([s_data1,s_data2])\n",
    "            s_data=s_data.sort(columns=[\"Cost\"])\n",
    "            s_data=s_data[s_data[\"F\"]>s_data[\"Cost\"]]\n",
    "            if len(s_data) == 0:\n",
    "                cars.loc[car,\"Availibility\"]=\"N\"\n",
    "                continue\n",
    "            else:\n",
    "                cars.loc[car,\"Job_done\"].append(s_data.index[0])\n",
    "                data=data.drop(s_data.index[0])\n",
    "                cars.loc[car,\"pos1\"]=s_data.iloc[0,2]\n",
    "                cars.loc[car,\"pos2\"]=s_data.iloc[0,3]\n",
    "                cars.loc[car,\"Availibility\"]=\"N\"\n",
    "                cars.loc[car,\"Work_until\"]=s_data.iloc[0,8]\n",
    "                done=done+1\n",
    "                \n",
    "    if len(cars[cars[\"Work_until\"]==t])!=0:\n",
    "        cars.loc[cars[cars[\"Work_until\"]==t].index,\"Availibility\"]=\"A\"\n"
   ]
  },
  {
   "cell_type": "code",
   "execution_count": 112,
   "metadata": {
    "collapsed": false
   },
   "outputs": [
    {
     "data": {
      "text/plain": [
       "2"
      ]
     },
     "execution_count": 112,
     "metadata": {},
     "output_type": "execute_result"
    }
   ],
   "source": [
    "done"
   ]
  },
  {
   "cell_type": "code",
   "execution_count": null,
   "metadata": {
    "collapsed": false
   },
   "outputs": [],
   "source": []
  },
  {
   "cell_type": "code",
   "execution_count": null,
   "metadata": {
    "collapsed": false
   },
   "outputs": [],
   "source": []
  },
  {
   "cell_type": "code",
   "execution_count": null,
   "metadata": {
    "collapsed": false
   },
   "outputs": [],
   "source": []
  },
  {
   "cell_type": "code",
   "execution_count": null,
   "metadata": {
    "collapsed": false
   },
   "outputs": [],
   "source": []
  },
  {
   "cell_type": "code",
   "execution_count": null,
   "metadata": {
    "collapsed": false,
    "scrolled": false
   },
   "outputs": [],
   "source": []
  },
  {
   "cell_type": "code",
   "execution_count": null,
   "metadata": {
    "collapsed": false
   },
   "outputs": [],
   "source": []
  },
  {
   "cell_type": "code",
   "execution_count": null,
   "metadata": {
    "collapsed": false
   },
   "outputs": [],
   "source": []
  },
  {
   "cell_type": "code",
   "execution_count": null,
   "metadata": {
    "collapsed": false
   },
   "outputs": [],
   "source": []
  },
  {
   "cell_type": "code",
   "execution_count": null,
   "metadata": {
    "collapsed": false
   },
   "outputs": [],
   "source": []
  },
  {
   "cell_type": "code",
   "execution_count": null,
   "metadata": {
    "collapsed": false
   },
   "outputs": [],
   "source": []
  },
  {
   "cell_type": "code",
   "execution_count": null,
   "metadata": {
    "collapsed": false
   },
   "outputs": [],
   "source": []
  },
  {
   "cell_type": "code",
   "execution_count": null,
   "metadata": {
    "collapsed": false
   },
   "outputs": [],
   "source": []
  },
  {
   "cell_type": "code",
   "execution_count": null,
   "metadata": {
    "collapsed": false
   },
   "outputs": [],
   "source": []
  },
  {
   "cell_type": "code",
   "execution_count": null,
   "metadata": {
    "collapsed": false
   },
   "outputs": [],
   "source": []
  },
  {
   "cell_type": "code",
   "execution_count": null,
   "metadata": {
    "collapsed": true
   },
   "outputs": [],
   "source": []
  },
  {
   "cell_type": "code",
   "execution_count": null,
   "metadata": {
    "collapsed": true
   },
   "outputs": [],
   "source": []
  }
 ],
 "metadata": {
  "kernelspec": {
   "display_name": "Python 2",
   "language": "python",
   "name": "python2"
  },
  "language_info": {
   "codemirror_mode": {
    "name": "ipython",
    "version": 2
   },
   "file_extension": ".py",
   "mimetype": "text/x-python",
   "name": "python",
   "nbconvert_exporter": "python",
   "pygments_lexer": "ipython2",
   "version": "2.7.13"
  }
 },
 "nbformat": 4,
 "nbformat_minor": 2
}
